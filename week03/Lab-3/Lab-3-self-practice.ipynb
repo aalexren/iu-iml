{
    "cells": [
        {
            "cell_type": "markdown",
            "metadata": {},
            "source": [
                "### Lab-3 : Self-Practice\n",
                "\n",
                "#### In this week, your self-practice task will consist to analyze the impact of class imballance on the performance of the logistic regression model.\n",
                "\n",
                "#### Class imbalance is very common in real life. For example, in a classification problem to predict whether a person has a certain very rare disease, the dataset will always contain more negative samples than positive ones. This situation can have a significant impact on the performance of the model. You will analyze this situation in the case of the Titanic dataset used in the lab."
            ]
        },
        {
            "cell_type": "markdown",
            "metadata": {},
            "source": [
                "### 1. Load the titanic dataset and <b>PLOT</b> the proportion of positive and negative samples (survived vs non survived)"
            ]
        },
        {
            "cell_type": "code",
            "execution_count": 253,
            "metadata": {},
            "outputs": [
                {
                    "data": {
                        "image/png": "[encoded data removed]",
                        "text/plain": [
                            "<Figure size 640x480 with 1 Axes>"
                        ]
                    },
                    "metadata": {},
                    "output_type": "display_data"
                }
            ],
            "source": [
                "### write your code here. Load the dataset and plot (barplot) proportion of each class \n",
                "import pandas as pd\n",
                "import numpy as np\n",
                "import matplotlib.pyplot as plt\n",
                "\n",
                "df = pd.read_csv('titanic.csv')\n",
                "\n",
                "plt.bar(['survived', 'non_survived'], [len(df[df.survived == 1]), len(df[df.survived == 0])])\n",
                "plt.show()"
            ]
        },
        {
            "cell_type": "markdown",
            "metadata": {},
            "source": [
                "#### Preprocess the data as it has been done in the lab, feel free to adapt"
            ]
        },
        {
            "cell_type": "code",
            "execution_count": 254,
            "metadata": {},
            "outputs": [],
            "source": [
                "#### preprocess the data\n",
                "from sklearn.impute import SimpleImputer\n",
                "from sklearn.preprocessing import OneHotEncoder\n",
                "from sklearn.preprocessing import MinMaxScaler\n",
                "\n",
                "# Remove names for preprocessing\n",
                "df.drop(['name'], axis=1, inplace=True)\n",
                "\n",
                "# imputing missing values\n",
                "imputer = SimpleImputer(strategy='most_frequent')\n",
                "imputer.fit(df)\n",
                "df = pd.DataFrame(imputer.transform(df), columns=df.columns)\n",
                "\n",
                "# one-hot-encode categorical features\n",
                "def ohe_new_features(df, features_name, encoder):\n",
                "    new_feats = encoder.transform(df[features_name])\n",
                "    # create dataframe from encoded features with named columns\n",
                "    new_cols = pd.DataFrame(new_feats, dtype=int, columns=encoder.get_feature_names_out(features_name))\n",
                "    new_df = pd.concat([df, new_cols], axis=1)    \n",
                "    new_df.drop(features_name, axis=1, inplace=True)\n",
                "    return new_df\n",
                "\n",
                "encoder = OneHotEncoder(sparse=False, drop='first')\n",
                "f_names = ['sex', 'embarked']\n",
                "encoder.fit(df[f_names])\n",
                "df = ohe_new_features(df, f_names, encoder)\n",
                "\n",
                "# feature scaling\n",
                "scaler = MinMaxScaler()\n",
                "scaler.fit(df)\n",
                "df = pd.DataFrame(scaler.transform(df), columns=df.columns)"
            ]
        },
        {
            "cell_type": "markdown",
            "metadata": {},
            "source": [
                "## 2. Impact of class imballance. \n",
                "##### Now, you will `artificially` imbalance the dataset. From the original dataset, create different dataset with the following class representations (drop samples from one class): \n",
                "##### 1. 20% vs 80%\n",
                "##### 2. 30% vs 70%\n",
                "##### 3. 40% vs 60%\n",
                "\n",
                "## Split each data into train and test set as in the lab; train logistic regression model for each setting and report (PLOT) the accuracy, precision, and recall of each model"
            ]
        },
        {
            "cell_type": "code",
            "execution_count": 255,
            "metadata": {},
            "outputs": [],
            "source": [
                "def imbalance_dataset(data: pd.DataFrame, column: str, proportion: float) -> pd.DataFrame:\n",
                "    # chosen column has to be binary distributed\n",
                "    # https://www.wolframalpha.com/input?i=%28a+-+x%29+%2F+%28a+-+x+%2B+b+-+y%29+%3D+p%2C+%28b+-+y%29+%2F+%28a+-+x+%2B+b+-+y%29+%3D+1+-+p+find+x%2C+y\n",
                "\n",
                "    p = proportion\n",
                "\n",
                "    df = data.copy()\n",
                "    classes = df[column].unique()\n",
                "\n",
                "    df_one = df[df[column] == classes[0]] # records of the first type\n",
                "    df_two = df[df[column] == classes[1]] # records of the second type\n",
                "\n",
                "    # make dataframes of equal lengths,\n",
                "    # then choose proportional number of records\n",
                "    if len(df_one) > len(df_two):\n",
                "        df_one = df_one.drop(df_one.index[range(0, len(df_one) - len(df_two))])\n",
                "        df_one = df_one.iloc[:int(len(df_one) * (1 - p)), :]\n",
                "        df_two = df_two.iloc[:int(len(df_two) * p), :]\n",
                "    else:\n",
                "        df_two = df_two.drop(df_two.index[range(0, len(df_two) - len(df_one))])\n",
                "        df_two = df_two.iloc[:int(len(df_two) * (1 - p)), :]\n",
                "        df_one = df_one.iloc[:int(len(df_one) * p), :]\n",
                "\n",
                "    df = pd.concat([df_one, df_two])\n",
                "    \n",
                "    print(\"first = {}%, second = {}%\"\n",
                "        .format(\n",
                "            len(df_one) / len(df) * 100, len(df_two) / len(df) * 100\n",
                "        )\n",
                "    )\n",
                "\n",
                "    return df"
            ]
        },
        {
            "cell_type": "code",
            "execution_count": 256,
            "metadata": {},
            "outputs": [
                {
                    "name": "stdout",
                    "output_type": "stream",
                    "text": [
                        "first = 20.0%, second = 80.0%\n",
                        "first = 30.0%, second = 70.0%\n",
                        "first = 40.0%, second = 60.0%\n"
                    ]
                }
            ],
            "source": [
                "### write your code here \n",
                "df_20_t_80 = imbalance_dataset(df, 'survived', 0.2)\n",
                "df_30_t_70 = imbalance_dataset(df, 'survived', 0.3)\n",
                "df_40_t_60 = imbalance_dataset(df, 'survived', 0.4)"
            ]
        },
        {
            "cell_type": "code",
            "execution_count": 264,
            "metadata": {},
            "outputs": [
                {
                    "ename": "TypeError",
                    "evalue": "'numpy.ndarray' object is not callable",
                    "output_type": "error",
                    "traceback": [
                        "\u001b[0;31m---------------------------------------------------------------------------\u001b[0m",
                        "\u001b[0;31mTypeError\u001b[0m                                 Traceback (most recent call last)",
                        "Cell \u001b[0;32mIn [264], line 14\u001b[0m\n\u001b[1;32m     12\u001b[0m     y_pred \u001b[39m=\u001b[39m logReg\u001b[39m.\u001b[39mpredict(x_test)\n\u001b[1;32m     13\u001b[0m     y_preds\u001b[39m.\u001b[39mappend(y_pred)\n\u001b[0;32m---> 14\u001b[0m     y_tests\u001b[39m.\u001b[39mappend(y_test\u001b[39m.\u001b[39;49mvalues())\n\u001b[1;32m     16\u001b[0m \u001b[39mprint\u001b[39m(y_preds[\u001b[39m0\u001b[39m])\n\u001b[1;32m     17\u001b[0m \u001b[39mprint\u001b[39m(y_tests[\u001b[39m0\u001b[39m])\n",
                        "\u001b[0;31mTypeError\u001b[0m: 'numpy.ndarray' object is not callable"
                    ]
                }
            ],
            "source": [
                "from sklearn.model_selection import train_test_split\n",
                "from sklearn.linear_model import LogisticRegression\n",
                "\n",
                "dfs = [df_20_t_80, df_30_t_70, df_40_t_60]\n",
                "y_preds = []\n",
                "y_tests = []\n",
                "for frame in dfs:\n",
                "    x_train, x_test, y_train, y_test = train_test_split(frame.loc[:, 'pclass':], frame['survived'], \n",
                "        test_size=0.1, stratify=frame['survived'], random_state=0)\n",
                "    logReg = LogisticRegression(random_state=0)\n",
                "    logReg.fit(x_train, y_train)\n",
                "    y_pred = logReg.predict(x_test)\n",
                "    y_preds.append(y_pred)\n",
                "    y_tests.append(y_test)\n",
                "\n",
                "print(y_preds[0])\n",
                "print(y_tests[0])"
            ]
        },
        {
            "cell_type": "code",
            "execution_count": 258,
            "metadata": {},
            "outputs": [],
            "source": [
                "from sklearn import metrics\n",
                "\n",
                "titles = ['20 to 80', '30 to 70', '40 to 60']\n",
                "\n",
                "results = [[],[],[]]\n",
                "for idx, y_pred in enumerate(y_preds):\n",
                "    accuracy = metrics.accuracy_score(y_tests[idx], y_pred)\n",
                "    precision = metrics.precision_score(y_tests[idx], y_pred)\n",
                "    recall = metrics.recall_score(y_tests[idx], y_pred)\n",
                "    results[0].append(accuracy)\n",
                "    results[1].append(precision)\n",
                "    results[2].append(recall)"
            ]
        },
        {
            "cell_type": "code",
            "execution_count": 259,
            "metadata": {},
            "outputs": [],
            "source": [
                "def print_metrics(result, titles):\n",
                "    plt.barh(titles, result[0])   \n",
                "    for i in range(len(titles)):\n",
                "        plt.text(1,i,result[0][i])\n",
                "    \n",
                "    plt.xlim([0,1])\n",
                "    plt.title('Accuracy')\n",
                "    plt.show()\n",
                "\n",
                "\n",
                "    plt.barh(titles, result[1])   \n",
                "    for i in range(len(titles)):\n",
                "        plt.text(1,i,result[1][i])\n",
                "    \n",
                "    plt.xlim([0,1])\n",
                "    plt.title('Precision')\n",
                "    plt.show()\n",
                "\n",
                "\n",
                "    plt.barh(titles, result[2])   \n",
                "    for i in range(len(titles)):\n",
                "        plt.text(1,i,result[2][i])\n",
                "    \n",
                "    plt.xlim([0,1])\n",
                "    plt.title('Recall')\n",
                "    plt.show()"
            ]
        },
        {
            "cell_type": "code",
            "execution_count": 260,
            "metadata": {},
            "outputs": [
                {
                    "data": {
                        "image/png": "[encoded data removed]",
                        "text/plain": [
                            "<Figure size 640x480 with 1 Axes>"
                        ]
                    },
                    "metadata": {},
                    "output_type": "display_data"
                },
                {
                    "data": {
                        "image/png": "[encoded data removed]",
                        "text/plain": [
                            "<Figure size 640x480 with 1 Axes>"
                        ]
                    },
                    "metadata": {},
                    "output_type": "display_data"
                },
                {
                    "data": {
                        "image/png": "[encoded data removed]",
                        "text/plain": [
                            "<Figure size 640x480 with 1 Axes>"
                        ]
                    },
                    "metadata": {},
                    "output_type": "display_data"
                }
            ],
            "source": [
                "print_metrics(results, titles)"
            ]
        },
        {
            "cell_type": "markdown",
            "metadata": {},
            "source": [
                "## 3. Analyse the class-wise accuracy. \n",
                "#### For each model, plot (bar plots) the class-wise accuracy, i.e., the accuracy for each class."
            ]
        },
        {
            "cell_type": "markdown",
            "metadata": {},
            "source": [
                "### BALANCE DATA SET IS BETTER"
            ]
        },
        {
            "cell_type": "code",
            "execution_count": 261,
            "metadata": {},
            "outputs": [],
            "source": [
                "#### write your code "
            ]
        },
        {
            "cell_type": "markdown",
            "metadata": {},
            "source": [
                "## 4. Report \n",
                "### Write a small report (few sentences) to discuss from your analysis, the impact of class imballance on logistic model's performance "
            ]
        },
        {
            "cell_type": "markdown",
            "metadata": {},
            "source": [
                "`Write your report here`"
            ]
        }
    ],
    "metadata": {
        "kernelspec": {
            "display_name": "Python 3.10.6 64-bit ('jupyter')",
            "language": "python",
            "name": "python3"
        },
        "language_info": {
            "codemirror_mode": {
                "name": "ipython",
                "version": 3
            },
            "file_extension": ".py",
            "mimetype": "text/x-python",
            "name": "python",
            "nbconvert_exporter": "python",
            "pygments_lexer": "ipython3",
            "version": "3.10.6"
        },
        "orig_nbformat": 4,
        "vscode": {
            "interpreter": {
                "hash": "d9ecfc4b99117608ac3b2c6bd3f9ec97ce6e8935d67f88376452d848c516d5d2"
            }
        }
    },
    "nbformat": 4,
    "nbformat_minor": 2
}
